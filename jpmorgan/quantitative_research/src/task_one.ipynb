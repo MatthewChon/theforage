{
 "cells": [
  {
   "cell_type": "code",
   "execution_count": null,
   "id": "a5585444-282b-4a24-9a57-339743797674",
   "metadata": {},
   "outputs": [],
   "source": [
    "import pandas as pd\n",
    "import numpy as np\n",
    "import scipy\n",
    "import matplotlib.pyplot as plt\n",
    "from datetime import datetime\n",
    "import warnings"
   ]
  },
  {
   "cell_type": "code",
   "execution_count": null,
   "id": "247a1a39-d6e7-495c-bdbd-ef0816b1830d",
   "metadata": {},
   "outputs": [],
   "source": [
    "def load_frame(data_file):\n",
    "    '''Loads the csv file onto a dataframe\n",
    "    param:\n",
    "     data_file:*csv_file*\n",
    "    return:\n",
    "     filled dataframe:*Pandas dataframe*\n",
    "    '''\n",
    "    with warnings.catch_warnings():  # warning is about converting index to datetime\n",
    "        warnings.filterwarnings(\"ignore\", message=\"Could not infer format, so each element will be parsed individually, falling back to `dateutil`. To ensure parsing is consistent and as-expected, please specify a format.\")\n",
    "        df = pd.read_csv(data_file, index_col='Dates', parse_dates=True)\n",
    "    return df"
   ]
  },
  {
   "cell_type": "code",
   "execution_count": null,
   "id": "2db78254-2b59-458b-8059-3fa3f16fad81",
   "metadata": {},
   "outputs": [],
   "source": [
    "def construct_best_fit(df):\n",
    "    x = np.array(list(range(len(df))))\n",
    "    y = df['Prices'].tolist()\n",
    "    return np.polynomial.Chebyshev.fit(x,y,len(df))"
   ]
  },
  {
   "cell_type": "code",
   "execution_count": null,
   "id": "c2ca3e3c-423a-400f-83e8-6140a873c004",
   "metadata": {},
   "outputs": [],
   "source": [
    "def forecast_one_year(df):\n",
    "    last_forecast_day = \"9/30/25\"\n",
    "    end_limit = {'Prices': np.nan}\n",
    "    df = pd.concat([df, pd.DataFrame(end_limit, index=[pd.to_datetime(last_forecast_day)])]).resample('D').mean()\n",
    "    return df"
   ]
  },
  {
   "cell_type": "code",
   "execution_count": null,
   "id": "f7ff27e2-68e7-4128-a916-7f616b285e20",
   "metadata": {},
   "outputs": [],
   "source": [
    "def create_timeline(current_hist_data):\n",
    "    '''Creates and interpolates missing dates using the data set\n",
    "    param:\n",
    "     current_hist_data:*Pandas dataframe*\n",
    "    return:\n",
    "     timeline:*Pandas dataframe*\n",
    "    '''\n",
    "    timeline = current_hist_data.resample('D').mean().interpolate(method='time')\n",
    "    timeline = forecast_one_year(timeline)\n",
    "    return timeline"
   ]
  },
  {
   "cell_type": "code",
   "execution_count": null,
   "id": "183cc37a-76ec-4ace-8a0c-7f52c554ea0c",
   "metadata": {},
   "outputs": [],
   "source": [
    "def return_price_estimate(date):\n",
    "    '''Retrieves a price estimate at a given date\n",
    "    params:\n",
    "     date:*str*\n",
    "    return:\n",
    "     price estimate:*float*\n",
    "    '''\n",
    "    date = pd.to_datetime(date)\n",
    "    current_hist_data = load_frame('../data/Nat_Gas.csv')\n",
    "    timeline = create_timeline(current_hist_data)\n",
    "    try:  # if the user specifies a date within the scope of our data\n",
    "        price_estimate = timeline.loc[date]['Prices']\n",
    "        if np.isnan(price_estimate):\n",
    "            extrapolate = construct_best_fit(current_hist_data)\n",
    "            price_estimate = extrapolate(timeline.index.get_loc(date))\n",
    "    except KeyError:\n",
    "        raise Exception('Date should be 10/31/20 <= date <= 9/30/25')\n",
    "    return price_estimate"
   ]
  }
 ],
 "metadata": {
  "kernelspec": {
   "display_name": "Python 3 (ipykernel)",
   "language": "python",
   "name": "python3"
  },
  "language_info": {
   "codemirror_mode": {
    "name": "ipython",
    "version": 3
   },
   "file_extension": ".py",
   "mimetype": "text/x-python",
   "name": "python",
   "nbconvert_exporter": "python",
   "pygments_lexer": "ipython3",
   "version": "3.9.6"
  }
 },
 "nbformat": 4,
 "nbformat_minor": 5
}
