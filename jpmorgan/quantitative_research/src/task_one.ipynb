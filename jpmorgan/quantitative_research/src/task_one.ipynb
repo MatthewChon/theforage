{
 "cells": [
  {
   "cell_type": "code",
   "execution_count": null,
   "id": "a5585444-282b-4a24-9a57-339743797674",
   "metadata": {},
   "outputs": [],
   "source": [
    "import pandas as pd\n",
    "import numpy as np\n",
    "import scipy\n",
    "import matplotlib.pyplot as plt\n",
    "from datetime import datetime\n",
    "import warnings"
   ]
  },
  {
   "cell_type": "code",
   "execution_count": null,
   "id": "247a1a39-d6e7-495c-bdbd-ef0816b1830d",
   "metadata": {},
   "outputs": [],
   "source": [
    "def load_frame(data_file):\n",
    "    '''Loads the csv file onto a dataframe\n",
    "    param:\n",
    "     data_file:*csv_file*\n",
    "    return:\n",
    "     filled dataframe:*Pandas dataframe*\n",
    "    '''\n",
    "    with warnings.catch_warnings():  # warning is about converting index to datetime\n",
    "        warnings.filterwarnings(\"ignore\", message=\"Could not infer format, so each element will be parsed individually, falling back to `dateutil`. To ensure parsing is consistent and as-expected, please specify a format.\")\n",
    "        df = pd.read_csv(data_file, index_col='Dates', parse_dates=True)\n",
    "    return df"
   ]
  },
  {
   "cell_type": "code",
   "execution_count": null,
   "id": "f7ff27e2-68e7-4128-a916-7f616b285e20",
   "metadata": {},
   "outputs": [],
   "source": [
    "def create_timeline(csv_file):\n",
    "    '''Creates and interpolates missing dates using the data set\n",
    "    param:\n",
    "     csv_file:*csv file*\n",
    "    return:\n",
    "     timeline:*Pandas dataframe*\n",
    "    '''\n",
    "    current_hist_data = load_frame(csv_file)\n",
    "    timeline = current_hist_data.resample('D').mean().interpolate(method='time')\n",
    "    return timeline"
   ]
  },
  {
   "cell_type": "code",
   "execution_count": null,
   "id": "036c50b1-3588-488f-a8a5-db48b3d3d291",
   "metadata": {},
   "outputs": [],
   "source": [
    "def extrapolate(date, timeline):\n",
    "    # TODO: implement this methods\n",
    "    pass"
   ]
  },
  {
   "cell_type": "code",
   "execution_count": null,
   "id": "183cc37a-76ec-4ace-8a0c-7f52c554ea0c",
   "metadata": {},
   "outputs": [],
   "source": [
    "def return_price_estimate(date):\n",
    "    '''Retrieves a price estimate at a given date\n",
    "    params:\n",
    "     date:*str*\n",
    "    return:\n",
    "     price estimate:*float*\n",
    "    '''\n",
    "    date = pd.to_datetime(date)\n",
    "    timeline = create_timeline('../data/Nat_Gas.csv')\n",
    "    try:  # if the user specifies a date within the scope of our data\n",
    "        price_estimate = timeline.loc[date]['Prices']\n",
    "    except KeyError:\n",
    "        price_estimate = extrapolate(date, timeline)\n",
    "    return price_estimate"
   ]
  },
  {
   "cell_type": "code",
   "execution_count": null,
   "id": "0d4a90ed-5314-453d-8e46-be4f9d6b71bb",
   "metadata": {},
   "outputs": [],
   "source": []
  },
  {
   "cell_type": "code",
   "execution_count": null,
   "id": "8bfef6a7-b302-433c-8eed-4adc7ee03be9",
   "metadata": {},
   "outputs": [],
   "source": []
  }
 ],
 "metadata": {
  "kernelspec": {
   "display_name": "Python 3 (ipykernel)",
   "language": "python",
   "name": "python3"
  },
  "language_info": {
   "codemirror_mode": {
    "name": "ipython",
    "version": 3
   },
   "file_extension": ".py",
   "mimetype": "text/x-python",
   "name": "python",
   "nbconvert_exporter": "python",
   "pygments_lexer": "ipython3",
   "version": "3.9.6"
  }
 },
 "nbformat": 4,
 "nbformat_minor": 5
}
